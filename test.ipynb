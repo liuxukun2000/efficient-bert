{
 "cells": [
  {
   "cell_type": "code",
   "execution_count": 16,
   "metadata": {
    "collapsed": true,
    "pycharm": {
     "name": "#%%\n"
    }
   },
   "outputs": [],
   "source": [
    "from utils import register_custom_ops\n",
    "from deap import gp\n",
    "import random"
   ]
  },
  {
   "cell_type": "code",
   "execution_count": 2,
   "outputs": [],
   "source": [
    "init_expr = [\n",
    "    'linear1_1(gelu(linear1_1(x,wb1)),wb2)', 'linear1_2(gelu(linear1_2(x,wb1)),wb2)', 'linear1_3(gelu(linear1_3(x,wb1)),wb2)', 'linear1_4(gelu(linear1_4(x,wb1)),wb2)',\n",
    "    'linear2_1(gelu(linear2_1(x,wb1)),wb2)', 'linear2_2(gelu(linear2_2(x,wb1)),wb2)', 'linear2_3(gelu(linear2_3(x,wb1)),wb2)', 'linear2_4(gelu(linear2_4(x,wb1)),wb2)',\n",
    "    'linear3_1(gelu(linear3_1(x,wb1)),wb2)', 'linear3_2(gelu(linear3_2(x,wb1)),wb2)', 'linear3_3(gelu(linear3_3(x,wb1)),wb2)', 'linear3_4(gelu(linear3_4(x,wb1)),wb2)',\n",
    "    'linear4_1(gelu(linear4_1(x,wb1)),wb2)', 'linear4_2(gelu(linear4_2(x,wb1)),wb2)', 'linear4_3(gelu(linear4_3(x,wb1)),wb2)', 'linear4_4(gelu(linear4_4(x,wb1)),wb2)',\n",
    "]"
   ],
   "metadata": {
    "collapsed": false,
    "pycharm": {
     "name": "#%%\n"
    }
   }
  },
  {
   "cell_type": "code",
   "execution_count": 3,
   "outputs": [],
   "source": [
    "pset = register_custom_ops()"
   ],
   "metadata": {
    "collapsed": false,
    "pycharm": {
     "name": "#%%\n"
    }
   }
  },
  {
   "cell_type": "code",
   "execution_count": 6,
   "outputs": [
    {
     "data": {
      "text/plain": "['x', 'wb1', 'wb2']"
     },
     "execution_count": 6,
     "metadata": {},
     "output_type": "execute_result"
    }
   ],
   "source": [
    "pset.arguments"
   ],
   "metadata": {
    "collapsed": false,
    "pycharm": {
     "name": "#%%\n"
    }
   }
  },
  {
   "cell_type": "code",
   "execution_count": 7,
   "outputs": [],
   "source": [
    "all_individuals = []\n",
    "for i, expr in enumerate(init_expr):\n",
    "    if i == 0:\n",
    "        entire_ind = [gp.PrimitiveTree.from_string(expr, pset) for _ in range(3)]\n",
    "        all_individuals.append(entire_ind)"
   ],
   "metadata": {
    "collapsed": false,
    "pycharm": {
     "name": "#%%\n"
    }
   }
  },
  {
   "cell_type": "code",
   "execution_count": 8,
   "outputs": [
    {
     "data": {
      "text/plain": "[[[<deap.gp.Primitive at 0x7f44502b5400>,\n   <deap.gp.Primitive at 0x7f44502a0400>,\n   <deap.gp.Primitive at 0x7f44502b5400>,\n   <deap.gp.Terminal at 0x7f44584c3080>,\n   <deap.gp.Terminal at 0x7f44502a5900>,\n   <deap.gp.Terminal at 0x7f44502a5500>],\n  [<deap.gp.Primitive at 0x7f44502b5400>,\n   <deap.gp.Primitive at 0x7f44502a0400>,\n   <deap.gp.Primitive at 0x7f44502b5400>,\n   <deap.gp.Terminal at 0x7f44584c3080>,\n   <deap.gp.Terminal at 0x7f44502a5900>,\n   <deap.gp.Terminal at 0x7f44502a5500>],\n  [<deap.gp.Primitive at 0x7f44502b5400>,\n   <deap.gp.Primitive at 0x7f44502a0400>,\n   <deap.gp.Primitive at 0x7f44502b5400>,\n   <deap.gp.Terminal at 0x7f44584c3080>,\n   <deap.gp.Terminal at 0x7f44502a5900>,\n   <deap.gp.Terminal at 0x7f44502a5500>]]]"
     },
     "execution_count": 8,
     "metadata": {},
     "output_type": "execute_result"
    }
   ],
   "source": [
    "all_individuals"
   ],
   "metadata": {
    "collapsed": false,
    "pycharm": {
     "name": "#%%\n"
    }
   }
  },
  {
   "cell_type": "code",
   "execution_count": 10,
   "outputs": [
    {
     "data": {
      "text/plain": "'linear1_1(gelu(linear1_1(x, wb1)), wb2)'"
     },
     "execution_count": 10,
     "metadata": {},
     "output_type": "execute_result"
    }
   ],
   "source": [
    "str(all_individuals[0][0])"
   ],
   "metadata": {
    "collapsed": false,
    "pycharm": {
     "name": "#%%\n"
    }
   }
  },
  {
   "cell_type": "code",
   "execution_count": 14,
   "outputs": [
    {
     "data": {
      "text/plain": "'linear1_1(gelu(linear1_1(x,wb1)),wb2), linear1_1(gelu(linear1_1(x,wb1)),wb2), linear1_1(gelu(linear1_1(x,wb1)),wb2)'"
     },
     "execution_count": 14,
     "metadata": {},
     "output_type": "execute_result"
    }
   ],
   "source": [
    "', '.join([str(ind).replace(' ', '') for ind in all_individuals[0]])"
   ],
   "metadata": {
    "collapsed": false,
    "pycharm": {
     "name": "#%%\n"
    }
   }
  },
  {
   "cell_type": "code",
   "execution_count": 17,
   "outputs": [],
   "source": [
    "def mutUniform(individual, expr, pset, min_, max_):\n",
    "    index = random.randrange(len(individual))\n",
    "    slice_ = individual.searchSubtree(index)\n",
    "    type_ = individual[index].ret\n",
    "    individual[slice_] = expr(pset=pset, type_=type_, min_=min_, max_=max_)\n",
    "    return individual,"
   ],
   "metadata": {
    "collapsed": false,
    "pycharm": {
     "name": "#%%\n"
    }
   }
  },
  {
   "cell_type": "code",
   "execution_count": 21,
   "outputs": [
    {
     "name": "stdout",
     "output_type": "stream",
     "text": [
      "linear1_1(relu(linear4_4(wb2, x)), wb2)\n"
     ]
    }
   ],
   "source": [
    "cur_ind = all_individuals[0][0]\n",
    "print(cur_ind)\n",
    "cur_ind, = mutUniform(cur_ind, gp.genFull, pset, 0, 3)\n",
    "cur_ind, = gp.mutNodeReplacement(cur_ind, pset)\n",
    "cur_ind, = gp.mutEphemeral(cur_ind, mode='one')\n",
    "cur_ind, = gp.mutInsert(cur_ind, pset)"
   ],
   "metadata": {
    "collapsed": false,
    "pycharm": {
     "name": "#%%\n"
    }
   }
  },
  {
   "cell_type": "code",
   "execution_count": 22,
   "outputs": [
    {
     "data": {
      "text/plain": "'linear1_1(relu(linear4_4(wb2, linear1_4(linear4_3(x, linear4_1(wb1, wb2)), linear4_1(wb2, wb2)))), wb2)'"
     },
     "execution_count": 22,
     "metadata": {},
     "output_type": "execute_result"
    }
   ],
   "source": [
    "str(cur_ind)"
   ],
   "metadata": {
    "collapsed": false,
    "pycharm": {
     "name": "#%%\n"
    }
   }
  },
  {
   "cell_type": "code",
   "execution_count": null,
   "outputs": [],
   "source": [
    "linear1_1(\n",
    "    relu(\n",
    "        linear4_4(\n",
    "            wb2,\n",
    "            linear1_4\n",
    "            (\n",
    "                linear4_3(\n",
    "                    x, linear4_1(wb1, wb2)\n",
    "                ), linear4_1(wb2, wb2)\n",
    "            )\n",
    "        )\n",
    "    ),\n",
    "    wb2)"
   ],
   "metadata": {
    "collapsed": false,
    "pycharm": {
     "name": "#%%\n"
    }
   }
  }
 ],
 "metadata": {
  "kernelspec": {
   "display_name": "Python 3",
   "language": "python",
   "name": "python3"
  },
  "language_info": {
   "codemirror_mode": {
    "name": "ipython",
    "version": 2
   },
   "file_extension": ".py",
   "mimetype": "text/x-python",
   "name": "python",
   "nbconvert_exporter": "python",
   "pygments_lexer": "ipython2",
   "version": "2.7.6"
  }
 },
 "nbformat": 4,
 "nbformat_minor": 0
}