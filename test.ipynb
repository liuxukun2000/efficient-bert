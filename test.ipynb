{
 "cells": [
  {
   "cell_type": "code",
   "execution_count": 43,
   "metadata": {
    "collapsed": true,
    "pycharm": {
     "name": "#%%\n"
    }
   },
   "outputs": [],
   "source": [
    "from utils import register_custom_ops\n",
    "from deap import gp\n",
    "import random\n",
    "import re\n",
    "import numpy as np"
   ]
  },
  {
   "cell_type": "code",
   "execution_count": 44,
   "outputs": [],
   "source": [
    "init_expr = [\n",
    "    'linear1_1(gelu(linear1_1(x,wb1)),wb2)', 'linear1_2(gelu(linear1_2(x,wb1)),wb2)', 'linear1_3(gelu(linear1_3(x,wb1)),wb2)', 'linear1_4(gelu(linear1_4(x,wb1)),wb2)',\n",
    "    'linear2_1(gelu(linear2_1(x,wb1)),wb2)', 'linear2_2(gelu(linear2_2(x,wb1)),wb2)', 'linear2_3(gelu(linear2_3(x,wb1)),wb2)', 'linear2_4(gelu(linear2_4(x,wb1)),wb2)',\n",
    "    'linear3_1(gelu(linear3_1(x,wb1)),wb2)', 'linear3_2(gelu(linear3_2(x,wb1)),wb2)', 'linear3_3(gelu(linear3_3(x,wb1)),wb2)', 'linear3_4(gelu(linear3_4(x,wb1)),wb2)',\n",
    "    'linear4_1(gelu(linear4_1(x,wb1)),wb2)', 'linear4_2(gelu(linear4_2(x,wb1)),wb2)', 'linear4_3(gelu(linear4_3(x,wb1)),wb2)', 'linear4_4(gelu(linear4_4(x,wb1)),wb2)',\n",
    "]"
   ],
   "metadata": {
    "collapsed": false,
    "pycharm": {
     "name": "#%%\n"
    }
   }
  },
  {
   "cell_type": "code",
   "execution_count": 45,
   "outputs": [],
   "source": [
    "pset = register_custom_ops()"
   ],
   "metadata": {
    "collapsed": false,
    "pycharm": {
     "name": "#%%\n"
    }
   }
  },
  {
   "cell_type": "code",
   "execution_count": 46,
   "outputs": [
    {
     "data": {
      "text/plain": "['x', 'wb1', 'wb2']"
     },
     "execution_count": 46,
     "metadata": {},
     "output_type": "execute_result"
    }
   ],
   "source": [
    "pset.arguments"
   ],
   "metadata": {
    "collapsed": false,
    "pycharm": {
     "name": "#%%\n"
    }
   }
  },
  {
   "cell_type": "code",
   "execution_count": 47,
   "outputs": [],
   "source": [
    "all_individuals = []\n",
    "for i, expr in enumerate(init_expr):\n",
    "    if i == 0:\n",
    "        entire_ind = [gp.PrimitiveTree.from_string(expr, pset) for _ in range(3)]\n",
    "        all_individuals.append(entire_ind)"
   ],
   "metadata": {
    "collapsed": false,
    "pycharm": {
     "name": "#%%\n"
    }
   }
  },
  {
   "cell_type": "code",
   "execution_count": 48,
   "outputs": [
    {
     "data": {
      "text/plain": "[[[<deap.gp.Primitive at 0x7fefe3f7ec20>,\n   <deap.gp.Primitive at 0x7fefe3fa0950>,\n   <deap.gp.Primitive at 0x7fefe3f7ec20>,\n   <deap.gp.Terminal at 0x7fefe49dc400>,\n   <deap.gp.Terminal at 0x7fefe405eac0>,\n   <deap.gp.Terminal at 0x7fefe405ea80>],\n  [<deap.gp.Primitive at 0x7fefe3f7ec20>,\n   <deap.gp.Primitive at 0x7fefe3fa0950>,\n   <deap.gp.Primitive at 0x7fefe3f7ec20>,\n   <deap.gp.Terminal at 0x7fefe49dc400>,\n   <deap.gp.Terminal at 0x7fefe405eac0>,\n   <deap.gp.Terminal at 0x7fefe405ea80>],\n  [<deap.gp.Primitive at 0x7fefe3f7ec20>,\n   <deap.gp.Primitive at 0x7fefe3fa0950>,\n   <deap.gp.Primitive at 0x7fefe3f7ec20>,\n   <deap.gp.Terminal at 0x7fefe49dc400>,\n   <deap.gp.Terminal at 0x7fefe405eac0>,\n   <deap.gp.Terminal at 0x7fefe405ea80>]]]"
     },
     "execution_count": 48,
     "metadata": {},
     "output_type": "execute_result"
    }
   ],
   "source": [
    "all_individuals"
   ],
   "metadata": {
    "collapsed": false,
    "pycharm": {
     "name": "#%%\n"
    }
   }
  },
  {
   "cell_type": "code",
   "execution_count": 49,
   "outputs": [
    {
     "data": {
      "text/plain": "'linear1_1(gelu(linear1_1(x, wb1)), wb2)'"
     },
     "execution_count": 49,
     "metadata": {},
     "output_type": "execute_result"
    }
   ],
   "source": [
    "str(all_individuals[0][0])"
   ],
   "metadata": {
    "collapsed": false,
    "pycharm": {
     "name": "#%%\n"
    }
   }
  },
  {
   "cell_type": "code",
   "execution_count": 50,
   "outputs": [
    {
     "data": {
      "text/plain": "'linear1_1(gelu(linear1_1(x,wb1)),wb2), linear1_1(gelu(linear1_1(x,wb1)),wb2), linear1_1(gelu(linear1_1(x,wb1)),wb2)'"
     },
     "execution_count": 50,
     "metadata": {},
     "output_type": "execute_result"
    }
   ],
   "source": [
    "', '.join([str(ind).replace(' ', '') for ind in all_individuals[0]])"
   ],
   "metadata": {
    "collapsed": false,
    "pycharm": {
     "name": "#%%\n"
    }
   }
  },
  {
   "cell_type": "code",
   "execution_count": 51,
   "outputs": [],
   "source": [
    "def mutUniform(individual, expr, pset, min_, max_):\n",
    "    index = random.randrange(len(individual))\n",
    "    slice_ = individual.searchSubtree(index)\n",
    "    type_ = individual[index].ret\n",
    "    individual[slice_] = expr(pset=pset, type_=type_, min_=min_, max_=max_)\n",
    "    return individual,"
   ],
   "metadata": {
    "collapsed": false,
    "pycharm": {
     "name": "#%%\n"
    }
   }
  },
  {
   "cell_type": "code",
   "execution_count": 52,
   "outputs": [
    {
     "name": "stdout",
     "output_type": "stream",
     "text": [
      "linear1_1(gelu(linear1_1(x, wb1)), wb2)\n",
      "linear1_1(gelu(linear1_1(x, gelu(linear1_4(linear2_4(x, wb2), linear2_1(wb1, wb2))))), wb1)\n"
     ]
    }
   ],
   "source": [
    "cur_ind = all_individuals[0][0]\n",
    "print(cur_ind)\n",
    "cur_ind, = mutUniform(cur_ind, gp.genFull, pset, 0, 3)\n",
    "cur_ind, = gp.mutNodeReplacement(cur_ind, pset)\n",
    "cur_ind, = gp.mutEphemeral(cur_ind, mode='one')\n",
    "cur_ind, = gp.mutInsert(cur_ind, pset)\n",
    "print(cur_ind)"
   ],
   "metadata": {
    "collapsed": false,
    "pycharm": {
     "name": "#%%\n"
    }
   }
  },
  {
   "cell_type": "code",
   "execution_count": 53,
   "outputs": [
    {
     "data": {
      "text/plain": "'linear1_1(gelu(linear1_1(x, gelu(linear1_4(linear2_4(x, wb2), linear2_1(wb1, wb2))))), wb1)'"
     },
     "execution_count": 53,
     "metadata": {},
     "output_type": "execute_result"
    }
   ],
   "source": [
    "str(cur_ind)"
   ],
   "metadata": {
    "collapsed": false,
    "pycharm": {
     "name": "#%%\n"
    }
   }
  },
  {
   "cell_type": "code",
   "execution_count": 54,
   "outputs": [],
   "source": [
    "def get_linear_idx(expr):\n",
    "    return '_'.join(re.search(r'linear(\\d+)_(\\d+)', str(expr)).groups())\n",
    "\n",
    "\n",
    "def get_entire_linear_idx(entire_ind):\n",
    "    entire_expr = [str(expr).replace(' ', '') for expr in entire_ind]\n",
    "    entire_linear_idx = [get_linear_idx(expr) for expr in entire_expr]\n",
    "    return entire_linear_idx"
   ],
   "metadata": {
    "collapsed": false,
    "pycharm": {
     "name": "#%%\n"
    }
   }
  },
  {
   "cell_type": "code",
   "execution_count": 55,
   "outputs": [],
   "source": [
    "init_expr = [\n",
    "        'tanh(linear4_2(gelu(linear4_2(x,wb1)),wb2)), elu(linear2_1(gelu(linear2_1(x,wb1)),wb2)), sigmoid(linear1_4(relu(linear1_4(x,wb1)),wb2)), linear4_4(gelu(linear4_4(max(x,tanh(x)),wb1)),wb2), linear1_3(relu(mul(linear1_3(x,wb1),x)),wb2), leaky_relu(linear2_4(gelu(linear2_4(x,wb1)),wb2))',\n",
    "        'tanh(linear1_1(gelu(linear1_1(x,wb1)),wb2)), elu(linear1_1(gelu(linear1_1(x,wb1)),wb2)), sigmoid(linear1_1(relu(linear1_1(x,wb1)),wb2)), linear1_1(gelu(linear1_1(max(x,tanh(x)),wb1)),wb2), linear1_1(relu(mul(linear1_1(x,wb1),x)),wb2), leaky_relu(linear1_1(gelu(linear1_1(x,wb1)),wb2))',\n",
    "        'tanh(linear1_2(gelu(linear1_2(x,wb1)),wb2)), elu(linear1_2(gelu(linear1_2(x,wb1)),wb2)), sigmoid(linear1_2(relu(linear1_2(x,wb1)),wb2)), linear1_2(gelu(linear1_2(max(x,tanh(x)),wb1)),wb2), linear1_2(relu(mul(linear1_2(x,wb1),x)),wb2), leaky_relu(linear1_2(gelu(linear1_2(x,wb1)),wb2))',\n",
    "        'tanh(linear1_3(gelu(linear1_3(x,wb1)),wb2)), elu(linear1_3(gelu(linear1_3(x,wb1)),wb2)), sigmoid(linear1_3(relu(linear1_3(x,wb1)),wb2)), linear1_3(gelu(linear1_3(max(x,tanh(x)),wb1)),wb2), linear1_3(relu(mul(linear1_3(x,wb1),x)),wb2), leaky_relu(linear1_3(gelu(linear1_3(x,wb1)),wb2))',\n",
    "        'tanh(linear1_4(gelu(linear1_4(x,wb1)),wb2)), elu(linear1_4(gelu(linear1_4(x,wb1)),wb2)), sigmoid(linear1_4(relu(linear1_4(x,wb1)),wb2)), linear1_4(gelu(linear1_4(max(x,tanh(x)),wb1)),wb2), linear1_4(relu(mul(linear1_4(x,wb1),x)),wb2), leaky_relu(linear1_4(gelu(linear1_4(x,wb1)),wb2))',\n",
    "        'tanh(linear2_1(gelu(linear2_1(x,wb1)),wb2)), elu(linear2_1(gelu(linear2_1(x,wb1)),wb2)), sigmoid(linear2_1(relu(linear2_1(x,wb1)),wb2)), linear2_1(gelu(linear2_1(max(x,tanh(x)),wb1)),wb2), linear2_1(relu(mul(linear2_1(x,wb1),x)),wb2), leaky_relu(linear2_1(gelu(linear2_1(x,wb1)),wb2))',\n",
    "        'tanh(linear2_2(gelu(linear2_2(x,wb1)),wb2)), elu(linear2_2(gelu(linear2_2(x,wb1)),wb2)), sigmoid(linear2_2(relu(linear2_2(x,wb1)),wb2)), linear2_2(gelu(linear2_2(max(x,tanh(x)),wb1)),wb2), linear2_2(relu(mul(linear2_2(x,wb1),x)),wb2), leaky_relu(linear2_2(gelu(linear2_2(x,wb1)),wb2))',\n",
    "        'tanh(linear2_3(gelu(linear2_3(x,wb1)),wb2)), elu(linear2_3(gelu(linear2_3(x,wb1)),wb2)), sigmoid(linear2_3(relu(linear2_3(x,wb1)),wb2)), linear2_3(gelu(linear2_3(max(x,tanh(x)),wb1)),wb2), linear2_3(relu(mul(linear2_3(x,wb1),x)),wb2), leaky_relu(linear2_3(gelu(linear2_3(x,wb1)),wb2))',\n",
    "        'tanh(linear2_4(gelu(linear2_4(x,wb1)),wb2)), elu(linear2_4(gelu(linear2_4(x,wb1)),wb2)), sigmoid(linear2_4(relu(linear2_4(x,wb1)),wb2)), linear2_4(gelu(linear2_4(max(x,tanh(x)),wb1)),wb2), linear2_4(relu(mul(linear2_4(x,wb1),x)),wb2), leaky_relu(linear2_4(gelu(linear2_4(x,wb1)),wb2))',\n",
    "        'tanh(linear3_1(gelu(linear3_1(x,wb1)),wb2)), elu(linear3_1(gelu(linear3_1(x,wb1)),wb2)), sigmoid(linear3_1(relu(linear3_1(x,wb1)),wb2)), linear3_1(gelu(linear3_1(max(x,tanh(x)),wb1)),wb2), linear3_1(relu(mul(linear3_1(x,wb1),x)),wb2), leaky_relu(linear3_1(gelu(linear3_1(x,wb1)),wb2))',\n",
    "        'tanh(linear3_2(gelu(linear3_2(x,wb1)),wb2)), elu(linear3_2(gelu(linear3_2(x,wb1)),wb2)), sigmoid(linear3_2(relu(linear3_2(x,wb1)),wb2)), linear3_2(gelu(linear3_2(max(x,tanh(x)),wb1)),wb2), linear3_2(relu(mul(linear3_2(x,wb1),x)),wb2), leaky_relu(linear3_2(gelu(linear3_2(x,wb1)),wb2))',\n",
    "        'tanh(linear3_3(gelu(linear3_3(x,wb1)),wb2)), elu(linear3_3(gelu(linear3_3(x,wb1)),wb2)), sigmoid(linear3_3(relu(linear3_3(x,wb1)),wb2)), linear3_3(gelu(linear3_3(max(x,tanh(x)),wb1)),wb2), linear3_3(relu(mul(linear3_3(x,wb1),x)),wb2), leaky_relu(linear3_3(gelu(linear3_3(x,wb1)),wb2))',\n",
    "        'tanh(linear3_4(gelu(linear3_4(x,wb1)),wb2)), elu(linear3_4(gelu(linear3_4(x,wb1)),wb2)), sigmoid(linear3_4(relu(linear3_4(x,wb1)),wb2)), linear3_4(gelu(linear3_4(max(x,tanh(x)),wb1)),wb2), linear3_4(relu(mul(linear3_4(x,wb1),x)),wb2), leaky_relu(linear3_4(gelu(linear3_4(x,wb1)),wb2))',\n",
    "        'tanh(linear4_1(gelu(linear4_1(x,wb1)),wb2)), elu(linear4_1(gelu(linear4_1(x,wb1)),wb2)), sigmoid(linear4_1(relu(linear4_1(x,wb1)),wb2)), linear4_1(gelu(linear4_1(max(x,tanh(x)),wb1)),wb2), linear4_1(relu(mul(linear4_1(x,wb1),x)),wb2), leaky_relu(linear4_1(gelu(linear4_1(x,wb1)),wb2))',\n",
    "        'tanh(linear4_2(gelu(linear4_2(x,wb1)),wb2)), elu(linear4_2(gelu(linear4_2(x,wb1)),wb2)), sigmoid(linear4_2(relu(linear4_2(x,wb1)),wb2)), linear4_2(gelu(linear4_2(max(x,tanh(x)),wb1)),wb2), linear4_2(relu(mul(linear4_2(x,wb1),x)),wb2), leaky_relu(linear4_2(gelu(linear4_2(x,wb1)),wb2))',\n",
    "        'tanh(linear4_3(gelu(linear4_3(x,wb1)),wb2)), elu(linear4_3(gelu(linear4_3(x,wb1)),wb2)), sigmoid(linear4_3(relu(linear4_3(x,wb1)),wb2)), linear4_3(gelu(linear4_3(max(x,tanh(x)),wb1)),wb2), linear4_3(relu(mul(linear4_3(x,wb1),x)),wb2), leaky_relu(linear4_3(gelu(linear4_3(x,wb1)),wb2))',\n",
    "        'tanh(linear4_4(gelu(linear4_4(x,wb1)),wb2)), elu(linear4_4(gelu(linear4_4(x,wb1)),wb2)), sigmoid(linear4_4(relu(linear4_4(x,wb1)),wb2)), linear4_4(gelu(linear4_4(max(x,tanh(x)),wb1)),wb2), linear4_4(relu(mul(linear4_4(x,wb1),x)),wb2), leaky_relu(linear4_4(gelu(linear4_4(x,wb1)),wb2))',\n",
    "    ]"
   ],
   "metadata": {
    "collapsed": false,
    "pycharm": {
     "name": "#%%\n"
    }
   }
  },
  {
   "cell_type": "code",
   "execution_count": 56,
   "outputs": [
    {
     "name": "stdout",
     "output_type": "stream",
     "text": [
      "(17, 6)\n"
     ]
    }
   ],
   "source": [
    "all_cand_expr = np.array([expr.split(', ') for expr in init_expr])\n",
    "print(all_cand_expr.shape)\n",
    "entire_ind = [gp.PrimitiveTree.from_string(random.choice(all_cand_expr[:, i]), pset)\n",
    "              for i in range(3)]\n",
    "entire_ffn_func = [gp.compile(ind, pset) for ind in entire_ind]\n",
    "entire_linear_idx = get_entire_linear_idx(entire_ind)"
   ],
   "metadata": {
    "collapsed": false,
    "pycharm": {
     "name": "#%%\n"
    }
   }
  },
  {
   "cell_type": "code",
   "execution_count": 57,
   "outputs": [
    {
     "name": "stdout",
     "output_type": "stream",
     "text": [
      "['2_2', '4_4', '4_2'] ['tanh(linear2_2(gelu(linear2_2(x, wb1)), wb2))', 'elu(linear4_4(gelu(linear4_4(x, wb1)), wb2))', 'sigmoid(linear4_2(relu(linear4_2(x, wb1)), wb2))']\n"
     ]
    }
   ],
   "source": [
    "print(entire_linear_idx, [str(i) for i in entire_ind])"
   ],
   "metadata": {
    "collapsed": false,
    "pycharm": {
     "name": "#%%\n"
    }
   }
  },
  {
   "cell_type": "code",
   "execution_count": 58,
   "outputs": [],
   "source": [
    "expansion_ratio_map = {\n",
    "            '1_1': 1, '1_2': 1 / 2, '1_3': 1 / 3, '1_4': 1 / 4,\n",
    "            '2_1': 1, '2_2': 1 / 2, '2_3': 1 / 3, '2_4': 1 / 4,\n",
    "            '3_1': 1, '3_2': 1 / 2, '3_3': 1 / 3, '3_4': 1 / 4,\n",
    "            '4_1': 1, '4_2': 1 / 2, '4_3': 1 / 3, '4_4': 1 / 4,\n",
    "        }"
   ],
   "metadata": {
    "collapsed": false,
    "pycharm": {
     "name": "#%%\n"
    }
   }
  },
  {
   "cell_type": "code",
   "execution_count": 59,
   "outputs": [
    {
     "name": "stdout",
     "output_type": "stream",
     "text": [
      "2_2 2 0.5\n",
      "4_4 4 0.25\n",
      "4_2 4 0.5\n"
     ]
    }
   ],
   "source": [
    "for i in range(3):\n",
    "    cur_linear_idx = entire_linear_idx[i]\n",
    "    num_stacked_ffn, expansion_ratio = int(cur_linear_idx.split('_')[0]), expansion_ratio_map[cur_linear_idx]\n",
    "    print(cur_linear_idx, num_stacked_ffn, expansion_ratio)"
   ],
   "metadata": {
    "collapsed": false,
    "pycharm": {
     "name": "#%%\n"
    }
   }
  },
  {
   "cell_type": "code",
   "execution_count": 60,
   "outputs": [
    {
     "data": {
      "text/plain": "['4_2']"
     },
     "execution_count": 60,
     "metadata": {},
     "output_type": "execute_result"
    }
   ],
   "source": [
    "get_entire_linear_idx(['tanh(linear4_2(gelu(linear4_2(x,wb1)),wb2))'])"
   ],
   "metadata": {
    "collapsed": false,
    "pycharm": {
     "name": "#%%\n"
    }
   }
  },
  {
   "cell_type": "code",
   "execution_count": 61,
   "outputs": [
    {
     "data": {
      "text/plain": "['wb1', 'wb2']"
     },
     "execution_count": 61,
     "metadata": {},
     "output_type": "execute_result"
    }
   ],
   "source": [
    "[arg for arg in pset.arguments if arg.startswith('wb')]"
   ],
   "metadata": {
    "collapsed": false,
    "pycharm": {
     "name": "#%%\n"
    }
   }
  },
  {
   "cell_type": "code",
   "execution_count": 62,
   "outputs": [],
   "source": [
    "import torch\n",
    "\n",
    "\n",
    "def check_individual(individual, pset, min_height, max_height):\n",
    "    expr = str(individual).replace(' ', '')\n",
    "\n",
    "    try:\n",
    "        func = gp.compile(individual, pset)\n",
    "        x, wb = torch.zeros(1, 1, 1), [torch.zeros(1, 1), torch.zeros(1)]\n",
    "        num_wb = len([arg for arg in pset.arguments if arg.startswith('wb')])\n",
    "        func(x, *([wb] * num_wb))\n",
    "    except KeyError:\n",
    "        return False\n",
    "\n",
    "    if individual.height < min_height or individual.height > max_height:\n",
    "        return False\n",
    "\n",
    "    # Ensure x exists\n",
    "    res = re.search(r'x', expr)\n",
    "    if res is None:\n",
    "        return False\n",
    "\n",
    "    # Ensure each linear only appears once and arrange all linears in order\n",
    "    res_wb1 = re.findall(r'wb1', expr)\n",
    "    res_wb2 = re.findall(r'wb2', expr)\n",
    "    if len(res_wb1) == 1 and len(res_wb2) == 1:\n",
    "        wb1_start_idx = re.search(r'wb1', expr).start()\n",
    "        wb2_start_idx = re.search(r'wb2', expr).start()\n",
    "        if wb1_start_idx >= wb2_start_idx:\n",
    "            return False\n",
    "    else:\n",
    "        return False\n",
    "\n",
    "    # Avoid nested activations\n",
    "    all_act = '(' + '|'.join(pset.activations) + ')'\n",
    "    res = re.search(all_act + r'\\(' + all_act, expr)\n",
    "    if res is not None:\n",
    "        return False\n",
    "\n",
    "    # Avoid nested and inconsistent linears\n",
    "    all_linear = '(' + '|'.join([op for op in pset.context if op.startswith('linear')]) + ')'\n",
    "    res1 = re.search(all_linear + r'\\(' + all_linear, expr)\n",
    "    res2 = re.findall(all_linear, expr)\n",
    "    if res1 is not None or res2[0] != res2[1]:\n",
    "        return False\n",
    "\n",
    "    # Roughly avoid same inputs of add, mul, max\n",
    "    res1 = re.search(r'add\\(([^,]+),(\\1)\\)', expr)\n",
    "    res2 = re.search(r'mul\\(([^,]+),(\\1)\\)', expr)\n",
    "    res3 = re.search(r'max\\(([^,]+),(\\1)\\)', expr)\n",
    "    if res1 is not None or res2 is not None or res3 is not None:\n",
    "        return False\n",
    "\n",
    "    return True"
   ],
   "metadata": {
    "collapsed": false,
    "pycharm": {
     "name": "#%%\n"
    }
   }
  },
  {
   "cell_type": "code",
   "execution_count": 68,
   "outputs": [
    {
     "name": "stdout",
     "output_type": "stream",
     "text": [
      "linear1_1(gelu(linear1_1(x, gelu(linear1_4(linear2_4(x, wb2), linear2_1(wb1, wb2))))), wb1) <deap.gp.PrimitiveSet object at 0x7fefe4f74940>\n"
     ]
    },
    {
     "data": {
      "text/plain": "False"
     },
     "execution_count": 68,
     "metadata": {},
     "output_type": "execute_result"
    }
   ],
   "source": [
    "print(cur_ind, pset)\n",
    "# _ = gp.PrimitiveTree.from_string('tanh(linear4_1(gelu(linear4_1(x,wb1)),wb2))', pset)\n",
    "# gp.compile(_, pset)\n",
    "check_individual(cur_ind, pset, 0, 10)"
   ],
   "metadata": {
    "collapsed": false,
    "pycharm": {
     "name": "#%%\n"
    }
   }
  },
  {
   "cell_type": "code",
   "execution_count": null,
   "outputs": [],
   "source": [],
   "metadata": {
    "collapsed": false,
    "pycharm": {
     "name": "#%%\n"
    }
   }
  }
 ],
 "metadata": {
  "kernelspec": {
   "display_name": "Python 3",
   "language": "python",
   "name": "python3"
  },
  "language_info": {
   "codemirror_mode": {
    "name": "ipython",
    "version": 2
   },
   "file_extension": ".py",
   "mimetype": "text/x-python",
   "name": "python",
   "nbconvert_exporter": "python",
   "pygments_lexer": "ipython2",
   "version": "2.7.6"
  }
 },
 "nbformat": 4,
 "nbformat_minor": 0
}